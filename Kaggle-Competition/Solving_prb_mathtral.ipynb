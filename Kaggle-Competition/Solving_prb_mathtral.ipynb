{
 "cells": [
  {
   "cell_type": "code",
   "execution_count": 2,
   "id": "a0eb6a0e-8c00-429f-8303-9632bf7bf232",
   "metadata": {},
   "outputs": [],
   "source": [
    "import pandas as pd"
   ]
  },
  {
   "cell_type": "code",
   "execution_count": 3,
   "id": "a8811408-810e-4520-8b8d-b99f835d0d87",
   "metadata": {},
   "outputs": [],
   "source": [
    "from langchain_ollama.llms import OllamaLLM\n",
    "from langchain.prompts import PromptTemplate\n",
    "\n",
    "llm = OllamaLLM(model=\"mathstral:7b\",temperature=0, max_tokens=1500)"
   ]
  },
  {
   "cell_type": "code",
   "execution_count": 4,
   "id": "d0cc2ee2-723a-43f6-aca4-af1f3e9795f1",
   "metadata": {},
   "outputs": [
    {
     "name": "stdout",
     "output_type": "stream",
     "text": [
      "\u001b[1mOllamaLLM\u001b[0m\n",
      "Params: {}\n"
     ]
    }
   ],
   "source": [
    "print(llm)"
   ]
  },
  {
   "cell_type": "code",
   "execution_count": 5,
   "id": "be466d55-66bd-4b74-9a6c-ff801e3ef219",
   "metadata": {},
   "outputs": [],
   "source": [
    "def get_answer(question):\n",
    "    prompt = f\"\"\"Role:\n",
    "    You are an advanced AI system with exceptional mathematical reasoning and problem-solving capabilities, specifically designed to solve tricky math problems (whose answer is a non-negative integer) written in LaTeX format from the AI Mathematical Olympiad (AIMO) competition. Your task is to accurately analyze and solve intricate mathematical problems, demonstrating a deep understanding of mathematical concepts and a strong ability to apply logical reasoning strategies.\n",
    "    \n",
    "    Instruction:\n",
    "    1. Carefully read and comprehend the problem statement provided in the \"Problem\" section.\n",
    "    2. In the \"Solution\" section, provide a solution of the problem with detailed explanation of your logical reasoning process. Keep in mind that answer must be a non-negative integer number.\n",
    "    3. At the end, create a \"Answer\" section where you will state only the final numerical or algebraic answer, without any additional text or narrative.\n",
    "    Problem:\n",
    "    ...\n",
    "\n",
    "    Solution:\n",
    "    ...\n",
    "    \n",
    "    Answer:\n",
    "    ...\n",
    "    \n",
    "    {question}\n",
    "    \n",
    "    Step-by-step solution and final answer:\"\"\"\n",
    "    \n",
    "    response = llm.invoke(prompt)\n",
    "    \n",
    "    return response.strip()"
   ]
  },
  {
   "cell_type": "code",
   "execution_count": 6,
   "id": "83effce2-0d99-41aa-9847-eed53aae237b",
   "metadata": {},
   "outputs": [],
   "source": [
    "import re\n",
    "\n",
    "def extract_numerical_answer(text):\n",
    "    # Look for patterns like \"Final answer: X\" or \"The answer is X\" at the end of the text\n",
    "    match = re.search(r'(?:final answer|the answer is)[:\\s]*([+-]?\\d*\\.?\\d+)', text, re.IGNORECASE)\n",
    "    if match:\n",
    "        return float(match.group(1))\n",
    "    else:\n",
    "        # If no clear final answer, look for the last number in the text\n",
    "        numbers = re.findall(r'[+-]?\\d*\\.?\\d+', text)\n",
    "        return float(numbers[-1]) if numbers else None"
   ]
  },
  {
   "cell_type": "code",
   "execution_count": 7,
   "id": "2190a2fd-f995-44e3-aa07-fb65ed715432",
   "metadata": {},
   "outputs": [],
   "source": [
    "# Script for runing faster\n",
    "from tqdm.auto import tqdm\n",
    "\n",
    "from concurrent.futures import ThreadPoolExecutor\n",
    "\n",
    "pool = ThreadPoolExecutor(max_workers=6)\n",
    "\n",
    "def map_progress(pool, seq, f):\n",
    "    results = []\n",
    "\n",
    "    with tqdm(total=len(seq)) as progress:\n",
    "        futures = []\n",
    "\n",
    "        for el in seq:\n",
    "            future = pool.submit(f, el)\n",
    "            future.add_done_callback(lambda p: progress.update())\n",
    "            futures.append(future)\n",
    "            \n",
    "        for future in futures:\n",
    "            result = future.result()\n",
    "            results.append(result)\n",
    "\n",
    "    return results"
   ]
  },
  {
   "cell_type": "code",
   "execution_count": 8,
   "id": "0f59df6e-cda3-4057-a0ba-6acb46955374",
   "metadata": {},
   "outputs": [],
   "source": [
    "def process_row(row):\n",
    "    problem_id = row['problem_id']\n",
    "    problem_text = row['problem_text']\n",
    "\n",
    "    llm_reasoning = get_answer(problem_text)\n",
    "\n",
    "    numerical_answer = extract_numerical_answer(llm_reasoning)\n",
    "\n",
    "    return {\n",
    "        'problem_id': problem_id,\n",
    "        'problem_text': problem_text,\n",
    "        'llm_reasoning': llm_reasoning,\n",
    "        'answer': numerical_answer\n",
    "    }"
   ]
  },
  {
   "cell_type": "code",
   "execution_count": 9,
   "id": "9fee13c8-30f3-445f-af2a-43fa7d69e1c5",
   "metadata": {},
   "outputs": [
    {
     "data": {
      "text/html": [
       "<div>\n",
       "<style scoped>\n",
       "    .dataframe tbody tr th:only-of-type {\n",
       "        vertical-align: middle;\n",
       "    }\n",
       "\n",
       "    .dataframe tbody tr th {\n",
       "        vertical-align: top;\n",
       "    }\n",
       "\n",
       "    .dataframe thead th {\n",
       "        text-align: right;\n",
       "    }\n",
       "</style>\n",
       "<table border=\"1\" class=\"dataframe\">\n",
       "  <thead>\n",
       "    <tr style=\"text-align: right;\">\n",
       "      <th></th>\n",
       "      <th>problem_id</th>\n",
       "      <th>problem_text</th>\n",
       "      <th>answer</th>\n",
       "    </tr>\n",
       "  </thead>\n",
       "  <tbody>\n",
       "    <tr>\n",
       "      <th>0</th>\n",
       "      <td>2374</td>\n",
       "      <td>Find the value of the expression $\\dfrac{17}{5...</td>\n",
       "      <td>1.6</td>\n",
       "    </tr>\n",
       "    <tr>\n",
       "      <th>1</th>\n",
       "      <td>4723</td>\n",
       "      <td>In a company of 30 people, 25 use the social n...</td>\n",
       "      <td>24</td>\n",
       "    </tr>\n",
       "    <tr>\n",
       "      <th>2</th>\n",
       "      <td>7135</td>\n",
       "      <td>The number of road traffic accidents (RTAs) in...</td>\n",
       "      <td>32</td>\n",
       "    </tr>\n",
       "    <tr>\n",
       "      <th>3</th>\n",
       "      <td>5814</td>\n",
       "      <td>Find the value of the expression $\\dfrac{2\\str...</td>\n",
       "      <td>256</td>\n",
       "    </tr>\n",
       "    <tr>\n",
       "      <th>4</th>\n",
       "      <td>9237</td>\n",
       "      <td>A traveler from Moscow wants to visit four cit...</td>\n",
       "      <td>53</td>\n",
       "    </tr>\n",
       "  </tbody>\n",
       "</table>\n",
       "</div>"
      ],
      "text/plain": [
       "   problem_id                                       problem_text answer\n",
       "0        2374  Find the value of the expression $\\dfrac{17}{5...    1.6\n",
       "1        4723  In a company of 30 people, 25 use the social n...     24\n",
       "2        7135  The number of road traffic accidents (RTAs) in...     32\n",
       "3        5814  Find the value of the expression $\\dfrac{2\\str...    256\n",
       "4        9237  A traveler from Moscow wants to visit four cit...     53"
      ]
     },
     "execution_count": 9,
     "metadata": {},
     "output_type": "execute_result"
    }
   ],
   "source": [
    "df_train = pd.read_csv('train.csv')\n",
    "df_train.head()"
   ]
  },
  {
   "cell_type": "code",
   "execution_count": 10,
   "id": "f213b3a5-658e-483a-98cf-6728385ef951",
   "metadata": {},
   "outputs": [
    {
     "data": {
      "text/plain": [
       "{'problem_id': 2374,\n",
       " 'problem_text': 'Find the value of the expression $\\\\dfrac{17}{5} :\\\\dfrac{34}{3} +1.3$.',\n",
       " 'llm_reasoning': '1. First, we need to understand that the problem is asking for the value of the expression $\\\\dfrac{17}{5} :\\\\dfrac{34}{3} +1.3$. The symbol \":\" represents division in this context.\\n2. Next, we perform the division operation. To divide fractions, we multiply the first fraction by the reciprocal of the second fraction. So, $\\\\dfrac{17}{5} :\\\\dfrac{34}{3}$ becomes $\\\\dfrac{17}{5} \\\\times \\\\dfrac{3}{34}$.\\n3. Simplify the fractions: $\\\\dfrac{17}{5} \\\\times \\\\dfrac{3}{34}$ simplifies to $\\\\dfrac{51}{170}$.\\n4. Now, we add 1.3 to the result of the division. So, $\\\\dfrac{51}{170} + 1.3$.\\n5. To add a fraction and a decimal, we first convert the decimal to a fraction. $1.3$ is equivalent to $\\\\dfrac{13}{10}$.\\n6. Now, we have $\\\\dfrac{51}{170} + \\\\dfrac{13}{10}$. To add fractions with different denominators, we find a common denominator. The least common multiple of 170 and 10 is 170. So, we convert $\\\\dfrac{13}{10}$ to $\\\\dfrac{221}{170}$.\\n7. Now, we can add the fractions: $\\\\dfrac{51}{170} + \\\\dfrac{221}{170} = \\\\dfrac{272}{170}$.\\n8. Simplify the fraction: $\\\\dfrac{272}{170}$ simplifies to $\\\\dfrac{136}{85}$.\\n9. The final answer is $\\\\boxed{\\\\dfrac{136}{85}}$.',\n",
       " 'answer': 85.0}"
      ]
     },
     "execution_count": 10,
     "metadata": {},
     "output_type": "execute_result"
    }
   ],
   "source": [
    "rows = df_train.head().to_dict(orient='records')\n",
    "process_row(rows[0])"
   ]
  },
  {
   "cell_type": "code",
   "execution_count": 11,
   "id": "7ac113d3-7ec8-4f5e-94a9-0d8ddf3d2828",
   "metadata": {},
   "outputs": [
    {
     "data": {
      "application/vnd.jupyter.widget-view+json": {
       "model_id": "25ec0d7e08a44323b17febb735a0bb89",
       "version_major": 2,
       "version_minor": 0
      },
      "text/plain": [
       "  0%|          | 0/5 [00:00<?, ?it/s]"
      ]
     },
     "metadata": {},
     "output_type": "display_data"
    },
    {
     "data": {
      "text/html": [
       "<div>\n",
       "<style scoped>\n",
       "    .dataframe tbody tr th:only-of-type {\n",
       "        vertical-align: middle;\n",
       "    }\n",
       "\n",
       "    .dataframe tbody tr th {\n",
       "        vertical-align: top;\n",
       "    }\n",
       "\n",
       "    .dataframe thead th {\n",
       "        text-align: right;\n",
       "    }\n",
       "</style>\n",
       "<table border=\"1\" class=\"dataframe\">\n",
       "  <thead>\n",
       "    <tr style=\"text-align: right;\">\n",
       "      <th></th>\n",
       "      <th>problem_id</th>\n",
       "      <th>problem_text</th>\n",
       "      <th>llm_reasoning</th>\n",
       "      <th>answer</th>\n",
       "    </tr>\n",
       "  </thead>\n",
       "  <tbody>\n",
       "    <tr>\n",
       "      <th>0</th>\n",
       "      <td>2374</td>\n",
       "      <td>Find the value of the expression $\\dfrac{17}{5...</td>\n",
       "      <td>1. First, we need to understand that the probl...</td>\n",
       "      <td>85.0</td>\n",
       "    </tr>\n",
       "    <tr>\n",
       "      <th>1</th>\n",
       "      <td>4723</td>\n",
       "      <td>In a company of 30 people, 25 use the social n...</td>\n",
       "      <td>1. Let's denote the number of people who use b...</td>\n",
       "      <td>24.0</td>\n",
       "    </tr>\n",
       "    <tr>\n",
       "      <th>2</th>\n",
       "      <td>7135</td>\n",
       "      <td>The number of road traffic accidents (RTAs) in...</td>\n",
       "      <td>1. Let's denote the number of road traffic acc...</td>\n",
       "      <td>32.0</td>\n",
       "    </tr>\n",
       "    <tr>\n",
       "      <th>3</th>\n",
       "      <td>5814</td>\n",
       "      <td>Find the value of the expression $\\dfrac{2\\str...</td>\n",
       "      <td>1. First, we simplify the numerator by adding ...</td>\n",
       "      <td>256.0</td>\n",
       "    </tr>\n",
       "    <tr>\n",
       "      <th>4</th>\n",
       "      <td>9237</td>\n",
       "      <td>A traveler from Moscow wants to visit four cit...</td>\n",
       "      <td>1. **Identify the routes that cover all four c...</td>\n",
       "      <td>36.0</td>\n",
       "    </tr>\n",
       "  </tbody>\n",
       "</table>\n",
       "</div>"
      ],
      "text/plain": [
       "   problem_id                                       problem_text  \\\n",
       "0        2374  Find the value of the expression $\\dfrac{17}{5...   \n",
       "1        4723  In a company of 30 people, 25 use the social n...   \n",
       "2        7135  The number of road traffic accidents (RTAs) in...   \n",
       "3        5814  Find the value of the expression $\\dfrac{2\\str...   \n",
       "4        9237  A traveler from Moscow wants to visit four cit...   \n",
       "\n",
       "                                       llm_reasoning  answer  \n",
       "0  1. First, we need to understand that the probl...    85.0  \n",
       "1  1. Let's denote the number of people who use b...    24.0  \n",
       "2  1. Let's denote the number of road traffic acc...    32.0  \n",
       "3  1. First, we simplify the numerator by adding ...   256.0  \n",
       "4  1. **Identify the routes that cover all four c...    36.0  "
      ]
     },
     "execution_count": 11,
     "metadata": {},
     "output_type": "execute_result"
    }
   ],
   "source": [
    "results = map_progress(pool, rows, process_row)\n",
    "df_results = pd.DataFrame(results)\n",
    "df_results"
   ]
  },
  {
   "cell_type": "code",
   "execution_count": 12,
   "id": "60468e5e-1be2-4b2a-bcc8-85882897c89a",
   "metadata": {},
   "outputs": [],
   "source": [
    "import pandas as pd\n",
    "import numpy as np\n",
    "\n",
    "\n",
    "class ParticipantVisibleError(Exception):\n",
    "    # If you want an error message to be shown to participants, you must raise the error as a ParticipantVisibleError\n",
    "    # All other errors will only be shown to the competition host. This helps prevent unintentional leakage of solution data.\n",
    "    pass\n",
    "\n",
    "def score(solution: pd.DataFrame, submission: pd.DataFrame, row_id_column_name: str) -> float:\n",
    "    '''\n",
    "    Accuracy that works with multiple correct answers.\n",
    "    '''\n",
    "    solution = solution.set_index(row_id_column_name, drop=True)\n",
    "    submission = submission.set_index(row_id_column_name, drop=True)\n",
    "    submission = submission.loc[solution.index]\n",
    "        \n",
    "    target_column = 'answer'\n",
    "    assert target_column in solution.columns\n",
    "    assert target_column in submission.columns\n",
    "\n",
    "    # This fix is needed because submission is loaded with default parameters\n",
    "    # Pandas magically converts string column into float\n",
    "    def fix_suffix(value):\n",
    "        if value.endswith('.0'):\n",
    "            return value[:-2]\n",
    "        else:\n",
    "            return value\n",
    "    submission[target_column] = submission[target_column].astype(str)\n",
    "    submission[target_column] = submission[target_column].apply(fix_suffix)\n",
    "    \n",
    "    \n",
    "    def convert_to_list(value):\n",
    "        values = [v.strip() for v in value.strip().lstrip('[').rstrip(']').split(',')]\n",
    "        return values\n",
    "\n",
    "    solution[target_column] = solution[target_column].astype(str).apply(convert_to_list)\n",
    "\n",
    "    correct = [\n",
    "        submit_answer in correct_answer\n",
    "        for correct_answer, submit_answer in zip(\n",
    "            solution[target_column].values, \n",
    "            submission[target_column].values\n",
    "        )\n",
    "    ]\n",
    "            \n",
    "    return np.mean(correct)    "
   ]
  },
  {
   "cell_type": "code",
   "execution_count": 13,
   "id": "073317a0-bf71-4376-887e-88a71071f05d",
   "metadata": {},
   "outputs": [
    {
     "data": {
      "text/plain": [
       "0.6"
      ]
     },
     "execution_count": 13,
     "metadata": {},
     "output_type": "execute_result"
    }
   ],
   "source": [
    "score(df_train.head(), df_results, 'problem_id')"
   ]
  },
  {
   "cell_type": "code",
   "execution_count": 14,
   "id": "ba76e467-6e2e-491a-b0ee-1360495587fd",
   "metadata": {},
   "outputs": [],
   "source": [
    "def prepare_prompts_and_get_answers(df):\n",
    "    rows = df.to_dict(orient='records')\n",
    "    results = map_progress(pool, rows, process_row)\n",
    "    return pd.DataFrame(results)"
   ]
  },
  {
   "cell_type": "code",
   "execution_count": null,
   "id": "a74715f3-327b-4d89-b0d2-fd8264dafe27",
   "metadata": {},
   "outputs": [
    {
     "data": {
      "application/vnd.jupyter.widget-view+json": {
       "model_id": "5784b79ef50f4a9086558ea55c894c88",
       "version_major": 2,
       "version_minor": 0
      },
      "text/plain": [
       "  0%|          | 0/100 [00:00<?, ?it/s]"
      ]
     },
     "metadata": {},
     "output_type": "display_data"
    }
   ],
   "source": [
    "df_train_results = prepare_prompts_and_get_answers(df_train)\n",
    "df_train_results.head()"
   ]
  },
  {
   "cell_type": "code",
   "execution_count": null,
   "id": "504409d7-41c4-491e-a7f1-bc1fd002e921",
   "metadata": {},
   "outputs": [],
   "source": [
    "score(df_train, df_train_results, 'problem_id')"
   ]
  },
  {
   "cell_type": "code",
   "execution_count": null,
   "id": "973c662d-8e3d-46b6-8a11-309120bc9323",
   "metadata": {},
   "outputs": [],
   "source": [
    "df_test = pd.read_csv('/kaggle/input/llm-zoomcamp-2024-competition/test.csv')\n",
    "\n",
    "df_test_results = prepare_prompts_and_get_answers(df_test)\n",
    "\n",
    "submission = df_test_results[['problem_id', 'answer']]\n",
    "submission.to_csv('submission.csv', index=False)"
   ]
  },
  {
   "cell_type": "code",
   "execution_count": null,
   "id": "428159d1-063c-448d-ae94-1ccf934339a4",
   "metadata": {},
   "outputs": [],
   "source": []
  }
 ],
 "metadata": {
  "kernelspec": {
   "display_name": "Python 3 (ipykernel)",
   "language": "python",
   "name": "python3"
  },
  "language_info": {
   "codemirror_mode": {
    "name": "ipython",
    "version": 3
   },
   "file_extension": ".py",
   "mimetype": "text/x-python",
   "name": "python",
   "nbconvert_exporter": "python",
   "pygments_lexer": "ipython3",
   "version": "3.11.0"
  }
 },
 "nbformat": 4,
 "nbformat_minor": 5
}
